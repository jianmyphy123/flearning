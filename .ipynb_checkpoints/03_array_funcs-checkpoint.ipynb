{
 "cells": [
  {
   "cell_type": "code",
   "execution_count": 1,
   "metadata": {},
   "outputs": [],
   "source": [
    "import numpy as np"
   ]
  },
  {
   "cell_type": "code",
   "execution_count": 2,
   "metadata": {},
   "outputs": [],
   "source": [
    "arr = np.arange(1, 10)"
   ]
  },
  {
   "cell_type": "code",
   "execution_count": 3,
   "metadata": {},
   "outputs": [
    {
     "data": {
      "text/plain": [
       "array([1, 2, 3, 4, 5, 6, 7, 8, 9])"
      ]
     },
     "execution_count": 3,
     "metadata": {},
     "output_type": "execute_result"
    }
   ],
   "source": [
    "arr"
   ]
  },
  {
   "cell_type": "code",
   "execution_count": 4,
   "metadata": {},
   "outputs": [
    {
     "data": {
      "text/plain": [
       "array([ 1.        ,  1.41421356,  1.73205081,  2.        ,  2.23606798,\n",
       "        2.44948974,  2.64575131,  2.82842712,  3.        ])"
      ]
     },
     "execution_count": 4,
     "metadata": {},
     "output_type": "execute_result"
    }
   ],
   "source": [
    "np.sqrt(arr)"
   ]
  },
  {
   "cell_type": "code",
   "execution_count": 5,
   "metadata": {},
   "outputs": [
    {
     "data": {
      "text/plain": [
       "array([ 0.        ,  0.30103   ,  0.47712125,  0.60205999,  0.69897   ,\n",
       "        0.77815125,  0.84509804,  0.90308999,  0.95424251])"
      ]
     },
     "execution_count": 5,
     "metadata": {},
     "output_type": "execute_result"
    }
   ],
   "source": [
    "np.log10(arr)"
   ]
  },
  {
   "cell_type": "code",
   "execution_count": 6,
   "metadata": {},
   "outputs": [],
   "source": [
    "x = np.random.randn(8)\n",
    "y = np.random.randn(8)"
   ]
  },
  {
   "cell_type": "code",
   "execution_count": 7,
   "metadata": {},
   "outputs": [
    {
     "data": {
      "text/plain": [
       "array([-0.9597894 ,  0.05458864,  0.32800096, -0.0601272 , -0.11171682,\n",
       "        1.05049039, -1.54356847,  1.24043068])"
      ]
     },
     "execution_count": 7,
     "metadata": {},
     "output_type": "execute_result"
    }
   ],
   "source": [
    "x"
   ]
  },
  {
   "cell_type": "code",
   "execution_count": 8,
   "metadata": {},
   "outputs": [
    {
     "data": {
      "text/plain": [
       "array([ 0.16715839,  0.09110542, -0.96362684,  1.56320455,  0.49973049,\n",
       "        0.4126851 ,  1.7556455 ,  0.9817313 ])"
      ]
     },
     "execution_count": 8,
     "metadata": {},
     "output_type": "execute_result"
    }
   ],
   "source": [
    "y"
   ]
  },
  {
   "cell_type": "code",
   "execution_count": 9,
   "metadata": {},
   "outputs": [
    {
     "data": {
      "text/plain": [
       "array([ 0.16715839,  0.09110542,  0.32800096,  1.56320455,  0.49973049,\n",
       "        1.05049039,  1.7556455 ,  1.24043068])"
      ]
     },
     "execution_count": 9,
     "metadata": {},
     "output_type": "execute_result"
    }
   ],
   "source": [
    "np.maximum(x, y)"
   ]
  },
  {
   "cell_type": "code",
   "execution_count": 10,
   "metadata": {},
   "outputs": [],
   "source": [
    "arr = np.random.randn(5,4)"
   ]
  },
  {
   "cell_type": "code",
   "execution_count": 11,
   "metadata": {},
   "outputs": [
    {
     "data": {
      "text/plain": [
       "array([[-0.96618889, -0.15189779, -1.48528914, -0.37767136],\n",
       "       [-0.8229002 , -1.3173173 ,  0.54932763, -0.26098674],\n",
       "       [-0.05843216,  0.91876768,  0.77138053, -0.21182694],\n",
       "       [-0.81821008,  0.06111688,  0.08246752, -0.1936131 ],\n",
       "       [-0.84994525,  0.76290832, -1.97806071,  0.78236669]])"
      ]
     },
     "execution_count": 11,
     "metadata": {},
     "output_type": "execute_result"
    }
   ],
   "source": [
    "arr"
   ]
  },
  {
   "cell_type": "code",
   "execution_count": 12,
   "metadata": {},
   "outputs": [
    {
     "data": {
      "text/plain": [
       "-5.5640044112093445"
      ]
     },
     "execution_count": 12,
     "metadata": {},
     "output_type": "execute_result"
    }
   ],
   "source": [
    "arr.sum()"
   ]
  },
  {
   "cell_type": "code",
   "execution_count": 13,
   "metadata": {},
   "outputs": [
    {
     "data": {
      "text/plain": [
       "-0.27820022056046723"
      ]
     },
     "execution_count": 13,
     "metadata": {},
     "output_type": "execute_result"
    }
   ],
   "source": [
    "arr.mean()"
   ]
  },
  {
   "cell_type": "code",
   "execution_count": 14,
   "metadata": {},
   "outputs": [
    {
     "data": {
      "text/plain": [
       "array([-3.51567658,  0.27357779, -2.06017417, -0.26173145])"
      ]
     },
     "execution_count": 14,
     "metadata": {},
     "output_type": "execute_result"
    }
   ],
   "source": [
    "arr.sum(axis = 0)"
   ]
  },
  {
   "cell_type": "code",
   "execution_count": 15,
   "metadata": {},
   "outputs": [
    {
     "data": {
      "text/plain": [
       "array([-2.98104717, -1.85187662,  1.41988911, -0.86823878, -1.28273096])"
      ]
     },
     "execution_count": 15,
     "metadata": {},
     "output_type": "execute_result"
    }
   ],
   "source": [
    "arr.sum(axis = 1)"
   ]
  },
  {
   "cell_type": "code",
   "execution_count": 16,
   "metadata": {},
   "outputs": [
    {
     "data": {
      "text/plain": [
       "array([[False, False, False, False],\n",
       "       [False, False,  True, False],\n",
       "       [False,  True,  True, False],\n",
       "       [False,  True,  True, False],\n",
       "       [False,  True, False,  True]], dtype=bool)"
      ]
     },
     "execution_count": 16,
     "metadata": {},
     "output_type": "execute_result"
    }
   ],
   "source": [
    "arr > 0"
   ]
  },
  {
   "cell_type": "code",
   "execution_count": 17,
   "metadata": {},
   "outputs": [
    {
     "data": {
      "text/plain": [
       "7"
      ]
     },
     "execution_count": 17,
     "metadata": {},
     "output_type": "execute_result"
    }
   ],
   "source": [
    "(arr > 0).sum()"
   ]
  },
  {
   "cell_type": "code",
   "execution_count": 20,
   "metadata": {},
   "outputs": [],
   "source": [
    "arr = np.random.randn(8)"
   ]
  },
  {
   "cell_type": "code",
   "execution_count": 21,
   "metadata": {},
   "outputs": [
    {
     "data": {
      "text/plain": [
       "array([ 0.58589681,  1.14913958,  3.10612959,  1.27702576, -0.81991593,\n",
       "        1.23731347, -0.66424724, -0.30598422])"
      ]
     },
     "execution_count": 21,
     "metadata": {},
     "output_type": "execute_result"
    }
   ],
   "source": [
    "arr"
   ]
  },
  {
   "cell_type": "code",
   "execution_count": 22,
   "metadata": {},
   "outputs": [
    {
     "data": {
      "text/plain": [
       "array([-0.81991593, -0.66424724, -0.30598422,  0.58589681,  1.14913958,\n",
       "        1.23731347,  1.27702576,  3.10612959])"
      ]
     },
     "execution_count": 22,
     "metadata": {},
     "output_type": "execute_result"
    }
   ],
   "source": [
    "np.sort(arr)"
   ]
  },
  {
   "cell_type": "code",
   "execution_count": 28,
   "metadata": {},
   "outputs": [
    {
     "data": {
      "text/plain": [
       "array([ 3.10612959,  1.27702576,  1.23731347,  1.14913958,  0.58589681,\n",
       "       -0.30598422, -0.66424724, -0.81991593])"
      ]
     },
     "execution_count": 28,
     "metadata": {},
     "output_type": "execute_result"
    }
   ],
   "source": [
    "np.sort(arr)[::-1]"
   ]
  },
  {
   "cell_type": "code",
   "execution_count": 29,
   "metadata": {},
   "outputs": [],
   "source": [
    "arr = np.random.randn(5,3)"
   ]
  },
  {
   "cell_type": "code",
   "execution_count": 30,
   "metadata": {},
   "outputs": [
    {
     "data": {
      "text/plain": [
       "array([[-0.71365376, -0.49826876, -1.52806858],\n",
       "       [-0.37033128, -1.28997154, -0.0221876 ],\n",
       "       [ 0.08651261,  0.28871531, -1.5814919 ],\n",
       "       [-0.9964059 , -2.01667468, -0.71256696],\n",
       "       [-0.54240546,  0.60677561,  0.64221832]])"
      ]
     },
     "execution_count": 30,
     "metadata": {},
     "output_type": "execute_result"
    }
   ],
   "source": [
    "arr"
   ]
  },
  {
   "cell_type": "code",
   "execution_count": 33,
   "metadata": {},
   "outputs": [
    {
     "data": {
      "text/plain": [
       "array([[-0.9964059 , -2.01667468, -1.5814919 ],\n",
       "       [-0.71365376, -1.28997154, -1.52806858],\n",
       "       [-0.54240546, -0.49826876, -0.71256696],\n",
       "       [-0.37033128,  0.28871531, -0.0221876 ],\n",
       "       [ 0.08651261,  0.60677561,  0.64221832]])"
      ]
     },
     "execution_count": 33,
     "metadata": {},
     "output_type": "execute_result"
    }
   ],
   "source": [
    "np.sort(arr, axis=0)"
   ]
  },
  {
   "cell_type": "code",
   "execution_count": 34,
   "metadata": {},
   "outputs": [
    {
     "data": {
      "text/plain": [
       "array([[-2.01667468, -1.5814919 , -0.9964059 ],\n",
       "       [-1.52806858, -1.28997154, -0.71365376],\n",
       "       [-0.71256696, -0.54240546, -0.49826876],\n",
       "       [-0.37033128, -0.0221876 ,  0.28871531],\n",
       "       [ 0.08651261,  0.60677561,  0.64221832]])"
      ]
     },
     "execution_count": 34,
     "metadata": {},
     "output_type": "execute_result"
    }
   ],
   "source": [
    "np.sort(arr, axis=1)"
   ]
  },
  {
   "cell_type": "code",
   "execution_count": 35,
   "metadata": {},
   "outputs": [],
   "source": [
    "large_arr = np.random.randn(150)"
   ]
  },
  {
   "cell_type": "code",
   "execution_count": 36,
   "metadata": {},
   "outputs": [
    {
     "data": {
      "text/plain": [
       "array([  1.00470475e+00,   3.30187886e-01,  -3.68798674e-01,\n",
       "         7.23892855e-01,  -5.90882712e-01,   3.08294430e-01,\n",
       "         1.63139127e+00,  -6.85771250e-01,   9.07877842e-03,\n",
       "        -1.61099922e-01,  -3.12700029e-01,   8.11057277e-01,\n",
       "        -2.48496450e+00,  -1.65344839e+00,   6.99409517e-01,\n",
       "         7.69616596e-01,  -8.92510996e-01,  -3.65329644e-01,\n",
       "        -2.19457919e+00,  -1.53565360e+00,   7.49017545e-01,\n",
       "        -2.64521131e+00,  -9.22057690e-01,  -1.43789429e+00,\n",
       "        -2.40637813e+00,  -2.67463595e-01,   4.33699158e-01,\n",
       "         4.75365813e-01,   1.13718174e+00,   7.15324282e-01,\n",
       "         3.01897791e+00,  -1.52688362e+00,   1.08265701e+00,\n",
       "        -8.04173557e-01,  -4.75779555e-02,  -1.47363473e-01,\n",
       "         4.49488337e-01,   2.04536945e-01,  -3.57713701e-01,\n",
       "         1.92611879e+00,  -4.06559626e-01,  -1.01075211e+00,\n",
       "         1.64322852e+00,  -5.24743952e-01,  -3.45709101e-01,\n",
       "        -1.32622661e-01,  -5.60144339e-01,   2.52085237e+00,\n",
       "        -4.02852226e-01,   1.56463102e+00,   6.69016476e-01,\n",
       "        -2.09368442e+00,  -6.03637464e-01,   1.19756703e+00,\n",
       "        -4.24808237e-01,   1.10536927e+00,  -2.25706574e+00,\n",
       "        -1.03623182e+00,  -1.03178894e+00,   7.85315301e-01,\n",
       "         1.60842603e+00,   1.60713807e-01,   1.40317287e-01,\n",
       "        -8.01610748e-01,   7.84988584e-01,   1.15779713e+00,\n",
       "         6.49153860e-01,  -1.85681091e-04,  -8.15634363e-01,\n",
       "        -2.04177877e+00,  -6.66077537e-01,  -2.29262754e+00,\n",
       "         5.66301919e-01,  -5.55460026e-01,   3.53478883e-01,\n",
       "        -7.96483778e-01,   1.44510313e-01,  -1.05604905e+00,\n",
       "         1.42366288e+00,  -1.00849219e+00,  -1.89635602e+00,\n",
       "        -5.79877740e-01,  -1.77276212e-01,  -2.18650905e-01,\n",
       "         4.12153800e-01,  -5.75831178e-01,   5.98010868e-01,\n",
       "         2.00777495e-01,   1.26835697e+00,  -1.49051588e+00,\n",
       "        -9.30173243e-01,   1.59433681e+00,  -5.44703950e-01,\n",
       "         1.07113484e-01,   9.12395415e-01,   2.94644464e-01,\n",
       "         7.80960287e-01,  -1.16645802e-01,   4.66861584e-01,\n",
       "        -3.86331331e-01,  -9.55784055e-02,  -2.76066027e-01,\n",
       "         1.71852737e-01,   6.72939064e-01,  -1.61193025e-01,\n",
       "        -2.04751013e+00,   3.81624515e-01,  -7.32576824e-01,\n",
       "         2.30651794e-02,  -3.61172500e-02,  -6.30422720e-01,\n",
       "        -1.13072425e+00,  -1.60541931e+00,   1.94876673e+00,\n",
       "         2.56514230e+00,  -1.62240739e+00,   1.18023095e+00,\n",
       "         1.15999332e+00,   2.62645002e-02,   3.07995407e+00,\n",
       "         1.03062006e+00,  -2.13473907e+00,   1.78885915e-01,\n",
       "         2.19288864e+00,   5.66360619e-01,   1.08073406e+00,\n",
       "        -1.25088810e+00,  -8.26526320e-01,  -5.46757375e-01,\n",
       "         2.92635795e-01,   8.96138266e-01,  -6.41325977e-01,\n",
       "        -1.29843045e+00,  -8.37426122e-01,   4.53339496e-01,\n",
       "        -4.58368985e-01,  -9.31700623e-01,  -6.23727381e-01,\n",
       "         1.50157898e+00,  -9.62254708e-01,   1.47302206e+00,\n",
       "        -1.58823393e+00,   2.26232581e-01,   1.33185898e+00,\n",
       "        -9.03247628e-01,   8.55890102e-01,  -1.38719276e-03,\n",
       "        -3.81016601e-01,  -3.65837364e-01,  -1.14270768e-01])"
      ]
     },
     "execution_count": 36,
     "metadata": {},
     "output_type": "execute_result"
    }
   ],
   "source": [
    "large_arr"
   ]
  },
  {
   "cell_type": "code",
   "execution_count": 38,
   "metadata": {},
   "outputs": [
    {
     "data": {
      "text/plain": [
       "array([  3.07995407e+00,   3.01897791e+00,   2.56514230e+00,\n",
       "         2.52085237e+00,   2.19288864e+00,   1.94876673e+00,\n",
       "         1.92611879e+00,   1.64322852e+00,   1.63139127e+00,\n",
       "         1.60842603e+00,   1.59433681e+00,   1.56463102e+00,\n",
       "         1.50157898e+00,   1.47302206e+00,   1.42366288e+00,\n",
       "         1.33185898e+00,   1.26835697e+00,   1.19756703e+00,\n",
       "         1.18023095e+00,   1.15999332e+00,   1.15779713e+00,\n",
       "         1.13718174e+00,   1.10536927e+00,   1.08265701e+00,\n",
       "         1.08073406e+00,   1.03062006e+00,   1.00470475e+00,\n",
       "         9.12395415e-01,   8.96138266e-01,   8.55890102e-01,\n",
       "         8.11057277e-01,   7.85315301e-01,   7.84988584e-01,\n",
       "         7.80960287e-01,   7.69616596e-01,   7.49017545e-01,\n",
       "         7.23892855e-01,   7.15324282e-01,   6.99409517e-01,\n",
       "         6.72939064e-01,   6.69016476e-01,   6.49153860e-01,\n",
       "         5.98010868e-01,   5.66360619e-01,   5.66301919e-01,\n",
       "         4.75365813e-01,   4.66861584e-01,   4.53339496e-01,\n",
       "         4.49488337e-01,   4.33699158e-01,   4.12153800e-01,\n",
       "         3.81624515e-01,   3.53478883e-01,   3.30187886e-01,\n",
       "         3.08294430e-01,   2.94644464e-01,   2.92635795e-01,\n",
       "         2.26232581e-01,   2.04536945e-01,   2.00777495e-01,\n",
       "         1.78885915e-01,   1.71852737e-01,   1.60713807e-01,\n",
       "         1.44510313e-01,   1.40317287e-01,   1.07113484e-01,\n",
       "         2.62645002e-02,   2.30651794e-02,   9.07877842e-03,\n",
       "        -1.85681091e-04,  -1.38719276e-03,  -3.61172500e-02,\n",
       "        -4.75779555e-02,  -9.55784055e-02,  -1.14270768e-01,\n",
       "        -1.16645802e-01,  -1.32622661e-01,  -1.47363473e-01,\n",
       "        -1.61099922e-01,  -1.61193025e-01,  -1.77276212e-01,\n",
       "        -2.18650905e-01,  -2.67463595e-01,  -2.76066027e-01,\n",
       "        -3.12700029e-01,  -3.45709101e-01,  -3.57713701e-01,\n",
       "        -3.65329644e-01,  -3.65837364e-01,  -3.68798674e-01,\n",
       "        -3.81016601e-01,  -3.86331331e-01,  -4.02852226e-01,\n",
       "        -4.06559626e-01,  -4.24808237e-01,  -4.58368985e-01,\n",
       "        -5.24743952e-01,  -5.44703950e-01,  -5.46757375e-01,\n",
       "        -5.55460026e-01,  -5.60144339e-01,  -5.75831178e-01,\n",
       "        -5.79877740e-01,  -5.90882712e-01,  -6.03637464e-01,\n",
       "        -6.23727381e-01,  -6.30422720e-01,  -6.41325977e-01,\n",
       "        -6.66077537e-01,  -6.85771250e-01,  -7.32576824e-01,\n",
       "        -7.96483778e-01,  -8.01610748e-01,  -8.04173557e-01,\n",
       "        -8.15634363e-01,  -8.26526320e-01,  -8.37426122e-01,\n",
       "        -8.92510996e-01,  -9.03247628e-01,  -9.22057690e-01,\n",
       "        -9.30173243e-01,  -9.31700623e-01,  -9.62254708e-01,\n",
       "        -1.00849219e+00,  -1.01075211e+00,  -1.03178894e+00,\n",
       "        -1.03623182e+00,  -1.05604905e+00,  -1.13072425e+00,\n",
       "        -1.25088810e+00,  -1.29843045e+00,  -1.43789429e+00,\n",
       "        -1.49051588e+00,  -1.52688362e+00,  -1.53565360e+00,\n",
       "        -1.58823393e+00,  -1.60541931e+00,  -1.62240739e+00,\n",
       "        -1.65344839e+00,  -1.89635602e+00,  -2.04177877e+00,\n",
       "        -2.04751013e+00,  -2.09368442e+00,  -2.13473907e+00,\n",
       "        -2.19457919e+00,  -2.25706574e+00,  -2.29262754e+00,\n",
       "        -2.40637813e+00,  -2.48496450e+00,  -2.64521131e+00])"
      ]
     },
     "execution_count": 38,
     "metadata": {},
     "output_type": "execute_result"
    }
   ],
   "source": [
    "np.sort(large_arr)[::-1]"
   ]
  },
  {
   "cell_type": "code",
   "execution_count": 40,
   "metadata": {},
   "outputs": [
    {
     "data": {
      "text/plain": [
       "1.643228524045147"
      ]
     },
     "execution_count": 40,
     "metadata": {},
     "output_type": "execute_result"
    }
   ],
   "source": [
    "np.sort(large_arr)[::-1][int(0.05 * len(large_arr))]"
   ]
  },
  {
   "cell_type": "code",
   "execution_count": 41,
   "metadata": {},
   "outputs": [],
   "source": [
    "names = np.array(['Alex', 'Leon', 'Anthony', 'Leon', 'Alex', 'Leon', 'Kevin'])\n",
    "ints = np.array([3,3,3,2,2,1,1,4,4])"
   ]
  },
  {
   "cell_type": "code",
   "execution_count": 42,
   "metadata": {},
   "outputs": [
    {
     "data": {
      "text/plain": [
       "array(['Alex', 'Anthony', 'Kevin', 'Leon'],\n",
       "      dtype='<U7')"
      ]
     },
     "execution_count": 42,
     "metadata": {},
     "output_type": "execute_result"
    }
   ],
   "source": [
    "np.unique(names)"
   ]
  },
  {
   "cell_type": "code",
   "execution_count": 43,
   "metadata": {},
   "outputs": [
    {
     "data": {
      "text/plain": [
       "array([1, 2, 3, 4])"
      ]
     },
     "execution_count": 43,
     "metadata": {},
     "output_type": "execute_result"
    }
   ],
   "source": [
    "np.unique(ints)"
   ]
  }
 ],
 "metadata": {
  "kernelspec": {
   "display_name": "Python 3",
   "language": "python",
   "name": "python3"
  },
  "language_info": {
   "codemirror_mode": {
    "name": "ipython",
    "version": 3
   },
   "file_extension": ".py",
   "mimetype": "text/x-python",
   "name": "python",
   "nbconvert_exporter": "python",
   "pygments_lexer": "ipython3",
   "version": "3.6.0"
  }
 },
 "nbformat": 4,
 "nbformat_minor": 2
}
